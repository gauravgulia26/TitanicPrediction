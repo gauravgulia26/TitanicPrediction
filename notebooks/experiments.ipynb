{
 "cells": [
  {
   "cell_type": "code",
   "execution_count": 2,
   "id": "74c12bd6",
   "metadata": {},
   "outputs": [
    {
     "data": {
      "text/plain": [
       "'/home/gaurav/Documents/TitanicPred/config.yaml'"
      ]
     },
     "execution_count": 2,
     "metadata": {},
     "output_type": "execute_result"
    }
   ],
   "source": [
    "from pathlib import Path\n",
    "\n",
    "file_name = \"../config.yaml\"\n",
    "\n",
    "str(Path(file_name).resolve())"
   ]
  },
  {
   "cell_type": "code",
   "execution_count": 2,
   "id": "460b18ad",
   "metadata": {},
   "outputs": [],
   "source": [
    "import pandas as pd\n",
    "\n",
    "df = pd.read_csv(r\"https://github.com/datasciencedojo/datasets/blob/master/titanic.csv?raw=true\")"
   ]
  },
  {
   "cell_type": "code",
   "execution_count": 2,
   "id": "34a79fbf",
   "metadata": {},
   "outputs": [],
   "source": [
    "cat = df.select_dtypes(include=[\"object\", \"category\", \"bool\"])"
   ]
  },
  {
   "cell_type": "code",
   "execution_count": 6,
   "id": "a6b2b129",
   "metadata": {},
   "outputs": [
    {
     "data": {
      "text/plain": [
       "Name         0.000000\n",
       "Sex          0.000000\n",
       "Ticket       0.000000\n",
       "Cabin       77.104377\n",
       "Embarked     0.224467\n",
       "dtype: float64"
      ]
     },
     "execution_count": 6,
     "metadata": {},
     "output_type": "execute_result"
    }
   ],
   "source": [
    "cat.isna().mean() * 100"
   ]
  },
  {
   "cell_type": "code",
   "execution_count": 3,
   "id": "a4283b99",
   "metadata": {},
   "outputs": [
    {
     "name": "stdout",
     "output_type": "stream",
     "text": [
      "There are no columns that have less than 5 % null values\n"
     ]
    }
   ],
   "source": [
    "num = df.select_dtypes(exclude=[\"object\", \"category\", \"bool\"])\n",
    "if (\n",
    "    len(num.isna().mean()[num.isna().mean() > 0][num.isna().mean()[num.isna().mean() > 0] < 0.05])\n",
    "    == 0\n",
    "):\n",
    "    print(\"There are no columns that have less than 5 % null values\")\n",
    "else:\n",
    "    print(\"Okay\")"
   ]
  },
  {
   "cell_type": "code",
   "execution_count": 31,
   "id": "93f6cc73",
   "metadata": {},
   "outputs": [],
   "source": [
    "col = num.isna().mean()[num.isna().mean() > 0].index.tolist()"
   ]
  },
  {
   "cell_type": "code",
   "execution_count": 32,
   "id": "14353e95",
   "metadata": {},
   "outputs": [],
   "source": [
    "skew = {}\n",
    "for _ in col:\n",
    "    skew[_] = df[_].skew()"
   ]
  },
  {
   "cell_type": "code",
   "execution_count": 33,
   "id": "dc9ef864",
   "metadata": {},
   "outputs": [
    {
     "data": {
      "text/plain": [
       "{'Age': np.float64(0.38910778230082704)}"
      ]
     },
     "execution_count": 33,
     "metadata": {},
     "output_type": "execute_result"
    }
   ],
   "source": [
    "skew"
   ]
  },
  {
   "cell_type": "code",
   "execution_count": 35,
   "id": "2605fdd0",
   "metadata": {},
   "outputs": [],
   "source": [
    "idx = num.columns"
   ]
  },
  {
   "cell_type": "code",
   "execution_count": 36,
   "id": "c68c6846",
   "metadata": {},
   "outputs": [
    {
     "name": "stdout",
     "output_type": "stream",
     "text": [
      "Column 'Index(['PassengerId', 'Survived', 'Pclass', 'Age', 'SibSp', 'Parch', 'Fare'], dtype='object')' is NOT normally distributed (p=0.0000)\n"
     ]
    }
   ],
   "source": [
    "from scipy.stats import shapiro\n",
    "\n",
    "\n",
    "stat, p = shapiro(df[idx].dropna())\n",
    "if p > 0.05:\n",
    "    print(f\"Column '{idx}' follows a normal distribution (p={p:.4f})\")\n",
    "else:\n",
    "    print(f\"Column '{idx}' is NOT normally distributed (p={p:.4f})\")"
   ]
  },
  {
   "cell_type": "code",
   "execution_count": 1,
   "id": "287a6001",
   "metadata": {},
   "outputs": [],
   "source": [
    "# for column in num:\n",
    "#     # Drop missing values\n",
    "#     data = num[column].dropna()\n",
    "#     if len(data) >= 3:  # Shapiro-Wilk test requires at least 3 data points\n",
    "#         stat, p_value = shapiro(data)\n",
    "#         print(f\"Column '{column}': W-statistic={stat:.4f}, p-value={p_value:.4f}\")\n",
    "#         if p_value > 0.05:\n",
    "#             print(f\"  {column} appears to be normally distributed.\\n\")\n",
    "#         else:\n",
    "#             print(f\"  {column} does not appear to be normally distributed.\\n\")\n",
    "#     else:\n",
    "#         print(f\"Column '{column}' does not have enough data points for the Shapiro-Wilk test.\\n\")"
   ]
  },
  {
   "cell_type": "code",
   "execution_count": 16,
   "id": "28707030",
   "metadata": {},
   "outputs": [],
   "source": [
    "null_col = df.columns[df.isnull().mean() > 0]"
   ]
  },
  {
   "cell_type": "code",
   "execution_count": 58,
   "id": "f5616811",
   "metadata": {},
   "outputs": [],
   "source": [
    "num = df[null_col].select_dtypes(exclude=[\"object\", \"category\", \"bool\"]).columns\n",
    "cat = df[null_col].select_dtypes(include=[\"object\", \"category\", \"bool\"])"
   ]
  },
  {
   "cell_type": "code",
   "execution_count": 57,
   "id": "dbe8f27e",
   "metadata": {},
   "outputs": [
    {
     "data": {
      "text/plain": [
       "['Embarked']"
      ]
     },
     "execution_count": 57,
     "metadata": {},
     "output_type": "execute_result"
    }
   ],
   "source": [
    "df[cat].isna().mean()[df[cat].isna().mean() < 0.05].index.values.tolist()"
   ]
  },
  {
   "cell_type": "code",
   "execution_count": 59,
   "id": "59f28170",
   "metadata": {},
   "outputs": [
    {
     "data": {
      "text/plain": [
       "Embarked    0.002245\n",
       "dtype: float64"
      ]
     },
     "execution_count": 59,
     "metadata": {},
     "output_type": "execute_result"
    }
   ],
   "source": [
    "(cat.isna().mean()[cat.isna().mean() < 0.05])"
   ]
  },
  {
   "cell_type": "code",
   "execution_count": 29,
   "id": "55f7641d",
   "metadata": {},
   "outputs": [
    {
     "data": {
      "text/plain": [
       "array([], dtype=float64)"
      ]
     },
     "execution_count": 29,
     "metadata": {},
     "output_type": "execute_result"
    }
   ],
   "source": [
    "cat.isna().mean()[cat.isna().mean() > 0][cat.isna().mean()[cat.isna().mean() > 0] < 0.05]"
   ]
  },
  {
   "cell_type": "code",
   "execution_count": null,
   "id": "2cad8f8d",
   "metadata": {},
   "outputs": [
    {
     "data": {
      "text/plain": [
       "1"
      ]
     },
     "execution_count": 61,
     "metadata": {},
     "output_type": "execute_result"
    }
   ],
   "source": [
    "len(cat.isna().mean()[cat.isna().mean() > 0][cat.isna().mean()[cat.isna().mean() > 0] < 0.05]"
   ]
  },
  {
   "cell_type": "code",
   "execution_count": 5,
   "id": "6745b23f",
   "metadata": {},
   "outputs": [
    {
     "name": "stdout",
     "output_type": "stream",
     "text": [
      "Checking for Normality using Shapiro-Wilk Test\n",
      "  PassengerId does not appear to be normally distributed.\n",
      "\n",
      "  Survived does not appear to be normally distributed.\n",
      "\n",
      "  Pclass does not appear to be normally distributed.\n",
      "\n",
      "  Age does not appear to be normally distributed.\n",
      "\n",
      "  SibSp does not appear to be normally distributed.\n",
      "\n",
      "  Parch does not appear to be normally distributed.\n",
      "\n",
      "  Fare does not appear to be normally distributed.\n",
      "\n"
     ]
    }
   ],
   "source": [
    "from scipy.stats import shapiro\n",
    "\n",
    "num = num.dropna()\n",
    "print(f\"Checking for Normality using Shapiro-Wilk Test\")\n",
    "normal_col = []\n",
    "not_normal_col = []\n",
    "for column in num:\n",
    "    data = num[column]\n",
    "    if len(data) >= 3:\n",
    "        stat, p_value = shapiro(data)\n",
    "        if p_value > 0.05:\n",
    "            print(f\"  {column} appears to be normally distributed.\\n\")\n",
    "            normal_col.append(column)\n",
    "        else:\n",
    "            print(f\"  {column} does not appear to be normally distributed.\\n\")\n",
    "            not_normal_col.append(column)\n",
    "    else:\n",
    "        raise ValueError(\n",
    "            f\"Column '{column}' does not have enough data points for the Shapiro-Wilk test.\\n\"\n",
    "        )\n",
    "if len(not_normal_col) < num.shape[1]:\n",
    "    print(f\"Non Normally Distributed Columns are {not_normal_col}\")\n",
    "    print(f\"Normally Distributed Columns are {normal_col}\")"
   ]
  },
  {
   "cell_type": "code",
   "execution_count": 3,
   "id": "b5024b77",
   "metadata": {},
   "outputs": [],
   "source": [
    "from sklearn.model_selection import train_test_split\n",
    "\n",
    "X = df.drop(columns=\"Survived\", axis=1)\n",
    "y = df[\"Survived\"]\n",
    "X_train, X_test, y_train, y_test = train_test_split(X, y, test_size=0.33, random_state=42)"
   ]
  },
  {
   "cell_type": "code",
   "execution_count": 10,
   "id": "ed09d304",
   "metadata": {},
   "outputs": [
    {
     "data": {
      "application/vnd.microsoft.datawrangler.viewer.v0+json": {
       "columns": [
        {
         "name": "index",
         "rawType": "int64",
         "type": "integer"
        },
        {
         "name": "PassengerId",
         "rawType": "int64",
         "type": "integer"
        },
        {
         "name": "Pclass",
         "rawType": "int64",
         "type": "integer"
        },
        {
         "name": "Name",
         "rawType": "object",
         "type": "string"
        },
        {
         "name": "Sex",
         "rawType": "object",
         "type": "string"
        },
        {
         "name": "Age",
         "rawType": "float64",
         "type": "float"
        },
        {
         "name": "SibSp",
         "rawType": "int64",
         "type": "integer"
        },
        {
         "name": "Parch",
         "rawType": "int64",
         "type": "integer"
        },
        {
         "name": "Ticket",
         "rawType": "object",
         "type": "string"
        },
        {
         "name": "Fare",
         "rawType": "float64",
         "type": "float"
        },
        {
         "name": "Cabin",
         "rawType": "object",
         "type": "unknown"
        },
        {
         "name": "Embarked",
         "rawType": "object",
         "type": "unknown"
        },
        {
         "name": "Survived",
         "rawType": "int64",
         "type": "integer"
        }
       ],
       "conversionMethod": "pd.DataFrame",
       "ref": "5404b9dd-124f-41ba-875d-49e02920725a",
       "rows": [
        [
         "6",
         "7",
         "1",
         "McCarthy, Mr. Timothy J",
         "male",
         "54.0",
         "0",
         "0",
         "17463",
         "51.8625",
         "E46",
         "S",
         "0"
        ],
        [
         "718",
         "719",
         "3",
         "McEvoy, Mr. Michael",
         "male",
         null,
         "0",
         "0",
         "36568",
         "15.5",
         null,
         "Q",
         "0"
        ],
        [
         "685",
         "686",
         "2",
         "Laroche, Mr. Joseph Philippe Lemercier",
         "male",
         "25.0",
         "1",
         "2",
         "SC/Paris 2123",
         "41.5792",
         null,
         "C",
         "0"
        ],
        [
         "73",
         "74",
         "3",
         "Chronopoulos, Mr. Apostolos",
         "male",
         "26.0",
         "1",
         "0",
         "2680",
         "14.4542",
         null,
         "C",
         "0"
        ],
        [
         "882",
         "883",
         "3",
         "Dahlberg, Miss. Gerda Ulrika",
         "female",
         "22.0",
         "0",
         "0",
         "7552",
         "10.5167",
         null,
         "S",
         "0"
        ],
        [
         "328",
         "329",
         "3",
         "Goldsmith, Mrs. Frank John (Emily Alice Brown)",
         "female",
         "31.0",
         "1",
         "1",
         "363291",
         "20.525",
         null,
         "S",
         "1"
        ],
        [
         "453",
         "454",
         "1",
         "Goldenberg, Mr. Samuel L",
         "male",
         "49.0",
         "1",
         "0",
         "17453",
         "89.1042",
         "C92",
         "C",
         "1"
        ],
        [
         "145",
         "146",
         "2",
         "Nicholls, Mr. Joseph Charles",
         "male",
         "19.0",
         "1",
         "1",
         "C.A. 33112",
         "36.75",
         null,
         "S",
         "0"
        ],
        [
         "234",
         "235",
         "2",
         "Leyson, Mr. Robert William Norman",
         "male",
         "24.0",
         "0",
         "0",
         "C.A. 29566",
         "10.5",
         null,
         "S",
         "0"
        ],
        [
         "220",
         "221",
         "3",
         "Sunderland, Mr. Victor Francis",
         "male",
         "16.0",
         "0",
         "0",
         "SOTON/OQ 392089",
         "8.05",
         null,
         "S",
         "1"
        ],
        [
         "370",
         "371",
         "1",
         "Harder, Mr. George Achilles",
         "male",
         "25.0",
         "1",
         "0",
         "11765",
         "55.4417",
         "E50",
         "C",
         "1"
        ],
        [
         "811",
         "812",
         "3",
         "Lester, Mr. James",
         "male",
         "39.0",
         "0",
         "0",
         "A/4 48871",
         "24.15",
         null,
         "S",
         "0"
        ],
        [
         "132",
         "133",
         "3",
         "Robins, Mrs. Alexander A (Grace Charity Laury)",
         "female",
         "47.0",
         "1",
         "0",
         "A/5. 3337",
         "14.5",
         null,
         "S",
         "0"
        ],
        [
         "694",
         "695",
         "1",
         "Weir, Col. John",
         "male",
         "60.0",
         "0",
         "0",
         "113800",
         "26.55",
         null,
         "S",
         "0"
        ],
        [
         "864",
         "865",
         "2",
         "Gill, Mr. John William",
         "male",
         "24.0",
         "0",
         "0",
         "233866",
         "13.0",
         null,
         "S",
         "0"
        ],
        [
         "185",
         "186",
         "1",
         "Rood, Mr. Hugh Roscoe",
         "male",
         null,
         "0",
         "0",
         "113767",
         "50.0",
         "A32",
         "S",
         "0"
        ],
        [
         "41",
         "42",
         "2",
         "Turpin, Mrs. William John Robert (Dorothy Ann Wonnacott)",
         "female",
         "27.0",
         "1",
         "0",
         "11668",
         "21.0",
         null,
         "S",
         "0"
        ],
        [
         "547",
         "548",
         "2",
         "Padro y Manent, Mr. Julian",
         "male",
         null,
         "0",
         "0",
         "SC/PARIS 2146",
         "13.8625",
         null,
         "C",
         "1"
        ],
        [
         "108",
         "109",
         "3",
         "Rekic, Mr. Tido",
         "male",
         "38.0",
         "0",
         "0",
         "349249",
         "7.8958",
         null,
         "S",
         "0"
        ],
        [
         "603",
         "604",
         "3",
         "Torber, Mr. Ernst William",
         "male",
         "44.0",
         "0",
         "0",
         "364511",
         "8.05",
         null,
         "S",
         "0"
        ],
        [
         "56",
         "57",
         "2",
         "Rugg, Miss. Emily",
         "female",
         "21.0",
         "0",
         "0",
         "C.A. 31026",
         "10.5",
         null,
         "S",
         "1"
        ],
        [
         "394",
         "395",
         "3",
         "Sandstrom, Mrs. Hjalmar (Agnes Charlotta Bengtsson)",
         "female",
         "24.0",
         "0",
         "2",
         "PP 9549",
         "16.7",
         "G6",
         "S",
         "1"
        ],
        [
         "706",
         "707",
         "2",
         "Kelly, Mrs. Florence \"Fannie\"",
         "female",
         "45.0",
         "0",
         "0",
         "223596",
         "13.5",
         null,
         "S",
         "1"
        ],
        [
         "549",
         "550",
         "2",
         "Davies, Master. John Morgan Jr",
         "male",
         "8.0",
         "1",
         "1",
         "C.A. 33112",
         "36.75",
         null,
         "S",
         "1"
        ],
        [
         "24",
         "25",
         "3",
         "Palsson, Miss. Torborg Danira",
         "female",
         "8.0",
         "3",
         "1",
         "349909",
         "21.075",
         null,
         "S",
         "0"
        ],
        [
         "351",
         "352",
         "1",
         "Williams-Lambert, Mr. Fletcher Fellows",
         "male",
         null,
         "0",
         "0",
         "113510",
         "35.0",
         "C128",
         "S",
         "0"
        ],
        [
         "429",
         "430",
         "3",
         "Pickard, Mr. Berk (Berk Trembisky)",
         "male",
         "32.0",
         "0",
         "0",
         "SOTON/O.Q. 392078",
         "8.05",
         "E10",
         "S",
         "1"
        ],
        [
         "434",
         "435",
         "1",
         "Silvey, Mr. William Baird",
         "male",
         "50.0",
         "1",
         "0",
         "13507",
         "55.9",
         "E44",
         "S",
         "0"
        ],
        [
         "51",
         "52",
         "3",
         "Nosworthy, Mr. Richard Cater",
         "male",
         "21.0",
         "0",
         "0",
         "A/4. 39886",
         "7.8",
         null,
         "S",
         "0"
        ],
        [
         "526",
         "527",
         "2",
         "Ridsdale, Miss. Lucy",
         "female",
         "50.0",
         "0",
         "0",
         "W./C. 14258",
         "10.5",
         null,
         "S",
         "1"
        ],
        [
         "816",
         "817",
         "3",
         "Heininen, Miss. Wendla Maria",
         "female",
         "23.0",
         "0",
         "0",
         "STON/O2. 3101290",
         "7.925",
         null,
         "S",
         "0"
        ],
        [
         "569",
         "570",
         "3",
         "Jonsson, Mr. Carl",
         "male",
         "32.0",
         "0",
         "0",
         "350417",
         "7.8542",
         null,
         "S",
         "1"
        ],
        [
         "264",
         "265",
         "3",
         "Henry, Miss. Delia",
         "female",
         null,
         "0",
         "0",
         "382649",
         "7.75",
         null,
         "Q",
         "0"
        ],
        [
         "436",
         "437",
         "3",
         "Ford, Miss. Doolina Margaret \"Daisy\"",
         "female",
         "21.0",
         "2",
         "2",
         "W./C. 6608",
         "34.375",
         null,
         "S",
         "0"
        ],
        [
         "613",
         "614",
         "3",
         "Horgan, Mr. John",
         "male",
         null,
         "0",
         "0",
         "370377",
         "7.75",
         null,
         "Q",
         "0"
        ],
        [
         "693",
         "694",
         "3",
         "Saad, Mr. Khalil",
         "male",
         "25.0",
         "0",
         "0",
         "2672",
         "7.225",
         null,
         "C",
         "0"
        ],
        [
         "352",
         "353",
         "3",
         "Elias, Mr. Tannous",
         "male",
         "15.0",
         "1",
         "1",
         "2695",
         "7.2292",
         null,
         "C",
         "0"
        ],
        [
         "18",
         "19",
         "3",
         "Vander Planke, Mrs. Julius (Emelia Maria Vandemoortele)",
         "female",
         "31.0",
         "1",
         "0",
         "345763",
         "18.0",
         null,
         "S",
         "0"
        ],
        [
         "666",
         "667",
         "2",
         "Butler, Mr. Reginald Fenton",
         "male",
         "25.0",
         "0",
         "0",
         "234686",
         "13.0",
         null,
         "S",
         "0"
        ],
        [
         "582",
         "583",
         "2",
         "Downton, Mr. William James",
         "male",
         "54.0",
         "0",
         "0",
         "28403",
         "26.0",
         null,
         "S",
         "0"
        ],
        [
         "83",
         "84",
         "1",
         "Carrau, Mr. Francisco M",
         "male",
         "28.0",
         "0",
         "0",
         "113059",
         "47.1",
         null,
         "S",
         "0"
        ],
        [
         "61",
         "62",
         "1",
         "Icard, Miss. Amelie",
         "female",
         "38.0",
         "0",
         "0",
         "113572",
         "80.0",
         "B28",
         null,
         "1"
        ],
        [
         "272",
         "273",
         "2",
         "Mellinger, Mrs. (Elizabeth Anne Maidment)",
         "female",
         "41.0",
         "0",
         "1",
         "250644",
         "19.5",
         null,
         "S",
         "1"
        ],
        [
         "285",
         "286",
         "3",
         "Stankovic, Mr. Ivan",
         "male",
         "33.0",
         "0",
         "0",
         "349239",
         "8.6625",
         null,
         "C",
         "0"
        ],
        [
         "695",
         "696",
         "2",
         "Chapman, Mr. Charles Henry",
         "male",
         "52.0",
         "0",
         "0",
         "248731",
         "13.5",
         null,
         "S",
         "0"
        ],
        [
         "746",
         "747",
         "3",
         "Abbott, Mr. Rossmore Edward",
         "male",
         "16.0",
         "1",
         "1",
         "C.A. 2673",
         "20.25",
         null,
         "S",
         "0"
        ],
        [
         "12",
         "13",
         "3",
         "Saundercock, Mr. William Henry",
         "male",
         "20.0",
         "0",
         "0",
         "A/5. 2151",
         "8.05",
         null,
         "S",
         "0"
        ],
        [
         "182",
         "183",
         "3",
         "Asplund, Master. Clarence Gustaf Hugo",
         "male",
         "9.0",
         "4",
         "2",
         "347077",
         "31.3875",
         null,
         "S",
         "0"
        ],
        [
         "444",
         "445",
         "3",
         "Johannesen-Bratthammer, Mr. Bernt",
         "male",
         null,
         "0",
         "0",
         "65306",
         "8.1125",
         null,
         "S",
         "1"
        ],
        [
         "552",
         "553",
         "3",
         "O'Brien, Mr. Timothy",
         "male",
         null,
         "0",
         "0",
         "330979",
         "7.8292",
         null,
         "Q",
         "0"
        ]
       ],
       "shape": {
        "columns": 12,
        "rows": 596
       }
      },
      "text/html": [
       "<div>\n",
       "<style scoped>\n",
       "    .dataframe tbody tr th:only-of-type {\n",
       "        vertical-align: middle;\n",
       "    }\n",
       "\n",
       "    .dataframe tbody tr th {\n",
       "        vertical-align: top;\n",
       "    }\n",
       "\n",
       "    .dataframe thead th {\n",
       "        text-align: right;\n",
       "    }\n",
       "</style>\n",
       "<table border=\"1\" class=\"dataframe\">\n",
       "  <thead>\n",
       "    <tr style=\"text-align: right;\">\n",
       "      <th></th>\n",
       "      <th>PassengerId</th>\n",
       "      <th>Pclass</th>\n",
       "      <th>Name</th>\n",
       "      <th>Sex</th>\n",
       "      <th>Age</th>\n",
       "      <th>SibSp</th>\n",
       "      <th>Parch</th>\n",
       "      <th>Ticket</th>\n",
       "      <th>Fare</th>\n",
       "      <th>Cabin</th>\n",
       "      <th>Embarked</th>\n",
       "      <th>Survived</th>\n",
       "    </tr>\n",
       "  </thead>\n",
       "  <tbody>\n",
       "    <tr>\n",
       "      <th>6</th>\n",
       "      <td>7</td>\n",
       "      <td>1</td>\n",
       "      <td>McCarthy, Mr. Timothy J</td>\n",
       "      <td>male</td>\n",
       "      <td>54.0</td>\n",
       "      <td>0</td>\n",
       "      <td>0</td>\n",
       "      <td>17463</td>\n",
       "      <td>51.8625</td>\n",
       "      <td>E46</td>\n",
       "      <td>S</td>\n",
       "      <td>0</td>\n",
       "    </tr>\n",
       "    <tr>\n",
       "      <th>718</th>\n",
       "      <td>719</td>\n",
       "      <td>3</td>\n",
       "      <td>McEvoy, Mr. Michael</td>\n",
       "      <td>male</td>\n",
       "      <td>NaN</td>\n",
       "      <td>0</td>\n",
       "      <td>0</td>\n",
       "      <td>36568</td>\n",
       "      <td>15.5000</td>\n",
       "      <td>NaN</td>\n",
       "      <td>Q</td>\n",
       "      <td>0</td>\n",
       "    </tr>\n",
       "    <tr>\n",
       "      <th>685</th>\n",
       "      <td>686</td>\n",
       "      <td>2</td>\n",
       "      <td>Laroche, Mr. Joseph Philippe Lemercier</td>\n",
       "      <td>male</td>\n",
       "      <td>25.0</td>\n",
       "      <td>1</td>\n",
       "      <td>2</td>\n",
       "      <td>SC/Paris 2123</td>\n",
       "      <td>41.5792</td>\n",
       "      <td>NaN</td>\n",
       "      <td>C</td>\n",
       "      <td>0</td>\n",
       "    </tr>\n",
       "    <tr>\n",
       "      <th>73</th>\n",
       "      <td>74</td>\n",
       "      <td>3</td>\n",
       "      <td>Chronopoulos, Mr. Apostolos</td>\n",
       "      <td>male</td>\n",
       "      <td>26.0</td>\n",
       "      <td>1</td>\n",
       "      <td>0</td>\n",
       "      <td>2680</td>\n",
       "      <td>14.4542</td>\n",
       "      <td>NaN</td>\n",
       "      <td>C</td>\n",
       "      <td>0</td>\n",
       "    </tr>\n",
       "    <tr>\n",
       "      <th>882</th>\n",
       "      <td>883</td>\n",
       "      <td>3</td>\n",
       "      <td>Dahlberg, Miss. Gerda Ulrika</td>\n",
       "      <td>female</td>\n",
       "      <td>22.0</td>\n",
       "      <td>0</td>\n",
       "      <td>0</td>\n",
       "      <td>7552</td>\n",
       "      <td>10.5167</td>\n",
       "      <td>NaN</td>\n",
       "      <td>S</td>\n",
       "      <td>0</td>\n",
       "    </tr>\n",
       "    <tr>\n",
       "      <th>...</th>\n",
       "      <td>...</td>\n",
       "      <td>...</td>\n",
       "      <td>...</td>\n",
       "      <td>...</td>\n",
       "      <td>...</td>\n",
       "      <td>...</td>\n",
       "      <td>...</td>\n",
       "      <td>...</td>\n",
       "      <td>...</td>\n",
       "      <td>...</td>\n",
       "      <td>...</td>\n",
       "      <td>...</td>\n",
       "    </tr>\n",
       "    <tr>\n",
       "      <th>106</th>\n",
       "      <td>107</td>\n",
       "      <td>3</td>\n",
       "      <td>Salkjelsvik, Miss. Anna Kristine</td>\n",
       "      <td>female</td>\n",
       "      <td>21.0</td>\n",
       "      <td>0</td>\n",
       "      <td>0</td>\n",
       "      <td>343120</td>\n",
       "      <td>7.6500</td>\n",
       "      <td>NaN</td>\n",
       "      <td>S</td>\n",
       "      <td>1</td>\n",
       "    </tr>\n",
       "    <tr>\n",
       "      <th>270</th>\n",
       "      <td>271</td>\n",
       "      <td>1</td>\n",
       "      <td>Cairns, Mr. Alexander</td>\n",
       "      <td>male</td>\n",
       "      <td>NaN</td>\n",
       "      <td>0</td>\n",
       "      <td>0</td>\n",
       "      <td>113798</td>\n",
       "      <td>31.0000</td>\n",
       "      <td>NaN</td>\n",
       "      <td>S</td>\n",
       "      <td>0</td>\n",
       "    </tr>\n",
       "    <tr>\n",
       "      <th>860</th>\n",
       "      <td>861</td>\n",
       "      <td>3</td>\n",
       "      <td>Hansen, Mr. Claus Peter</td>\n",
       "      <td>male</td>\n",
       "      <td>41.0</td>\n",
       "      <td>2</td>\n",
       "      <td>0</td>\n",
       "      <td>350026</td>\n",
       "      <td>14.1083</td>\n",
       "      <td>NaN</td>\n",
       "      <td>S</td>\n",
       "      <td>0</td>\n",
       "    </tr>\n",
       "    <tr>\n",
       "      <th>435</th>\n",
       "      <td>436</td>\n",
       "      <td>1</td>\n",
       "      <td>Carter, Miss. Lucile Polk</td>\n",
       "      <td>female</td>\n",
       "      <td>14.0</td>\n",
       "      <td>1</td>\n",
       "      <td>2</td>\n",
       "      <td>113760</td>\n",
       "      <td>120.0000</td>\n",
       "      <td>B96 B98</td>\n",
       "      <td>S</td>\n",
       "      <td>1</td>\n",
       "    </tr>\n",
       "    <tr>\n",
       "      <th>102</th>\n",
       "      <td>103</td>\n",
       "      <td>1</td>\n",
       "      <td>White, Mr. Richard Frasar</td>\n",
       "      <td>male</td>\n",
       "      <td>21.0</td>\n",
       "      <td>0</td>\n",
       "      <td>1</td>\n",
       "      <td>35281</td>\n",
       "      <td>77.2875</td>\n",
       "      <td>D26</td>\n",
       "      <td>S</td>\n",
       "      <td>0</td>\n",
       "    </tr>\n",
       "  </tbody>\n",
       "</table>\n",
       "<p>596 rows × 12 columns</p>\n",
       "</div>"
      ],
      "text/plain": [
       "     PassengerId  Pclass                                    Name     Sex  \\\n",
       "6              7       1                 McCarthy, Mr. Timothy J    male   \n",
       "718          719       3                     McEvoy, Mr. Michael    male   \n",
       "685          686       2  Laroche, Mr. Joseph Philippe Lemercier    male   \n",
       "73            74       3             Chronopoulos, Mr. Apostolos    male   \n",
       "882          883       3            Dahlberg, Miss. Gerda Ulrika  female   \n",
       "..           ...     ...                                     ...     ...   \n",
       "106          107       3        Salkjelsvik, Miss. Anna Kristine  female   \n",
       "270          271       1                   Cairns, Mr. Alexander    male   \n",
       "860          861       3                 Hansen, Mr. Claus Peter    male   \n",
       "435          436       1               Carter, Miss. Lucile Polk  female   \n",
       "102          103       1               White, Mr. Richard Frasar    male   \n",
       "\n",
       "      Age  SibSp  Parch         Ticket      Fare    Cabin Embarked  Survived  \n",
       "6    54.0      0      0          17463   51.8625      E46        S         0  \n",
       "718   NaN      0      0          36568   15.5000      NaN        Q         0  \n",
       "685  25.0      1      2  SC/Paris 2123   41.5792      NaN        C         0  \n",
       "73   26.0      1      0           2680   14.4542      NaN        C         0  \n",
       "882  22.0      0      0           7552   10.5167      NaN        S         0  \n",
       "..    ...    ...    ...            ...       ...      ...      ...       ...  \n",
       "106  21.0      0      0         343120    7.6500      NaN        S         1  \n",
       "270   NaN      0      0         113798   31.0000      NaN        S         0  \n",
       "860  41.0      2      0         350026   14.1083      NaN        S         0  \n",
       "435  14.0      1      2         113760  120.0000  B96 B98        S         1  \n",
       "102  21.0      0      1          35281   77.2875      D26        S         0  \n",
       "\n",
       "[596 rows x 12 columns]"
      ]
     },
     "execution_count": 10,
     "metadata": {},
     "output_type": "execute_result"
    }
   ],
   "source": [
    "pd.concat((X_train, y_train), axis=1)"
   ]
  }
 ],
 "metadata": {
  "kernelspec": {
   "display_name": "MachineLearning",
   "language": "python",
   "name": "python3"
  },
  "language_info": {
   "codemirror_mode": {
    "name": "ipython",
    "version": 3
   },
   "file_extension": ".py",
   "mimetype": "text/x-python",
   "name": "python",
   "nbconvert_exporter": "python",
   "pygments_lexer": "ipython3",
   "version": "3.12.9"
  }
 },
 "nbformat": 4,
 "nbformat_minor": 5
}
