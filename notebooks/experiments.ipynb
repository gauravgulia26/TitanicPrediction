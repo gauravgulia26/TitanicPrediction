{
 "cells": [
  {
   "cell_type": "code",
   "execution_count": 2,
   "id": "74c12bd6",
   "metadata": {},
   "outputs": [
    {
     "data": {
      "text/plain": [
       "'/home/gaurav/Documents/TitanicPred/config.yaml'"
      ]
     },
     "execution_count": 2,
     "metadata": {},
     "output_type": "execute_result"
    }
   ],
   "source": [
    "from pathlib import Path\n",
    "\n",
    "file_name = \"../config.yaml\"\n",
    "\n",
    "str(Path(file_name).resolve())"
   ]
  },
  {
   "cell_type": "code",
   "execution_count": 3,
   "id": "460b18ad",
   "metadata": {},
   "outputs": [],
   "source": [
    "import pandas as pd\n",
    "\n",
    "df = pd.read_csv(r\"https://github.com/datasciencedojo/datasets/blob/master/titanic.csv?raw=true\")"
   ]
  },
  {
   "cell_type": "code",
   "execution_count": 4,
   "id": "34a79fbf",
   "metadata": {},
   "outputs": [],
   "source": [
    "cat = df.select_dtypes(include=[\"object\", \"category\", \"bool\"])"
   ]
  },
  {
   "cell_type": "code",
   "execution_count": 6,
   "id": "a6b2b129",
   "metadata": {},
   "outputs": [
    {
     "data": {
      "text/plain": [
       "Name         0.000000\n",
       "Sex          0.000000\n",
       "Ticket       0.000000\n",
       "Cabin       77.104377\n",
       "Embarked     0.224467\n",
       "dtype: float64"
      ]
     },
     "execution_count": 6,
     "metadata": {},
     "output_type": "execute_result"
    }
   ],
   "source": [
    "cat.isna().mean() * 100"
   ]
  },
  {
   "cell_type": "code",
   "execution_count": null,
   "id": "a4283b99",
   "metadata": {},
   "outputs": [
    {
     "name": "stdout",
     "output_type": "stream",
     "text": [
      "There are no columns that have less than 5 % null values\n"
     ]
    }
   ],
   "source": [
    "num = df.select_dtypes(exclude=[\"object\", \"category\", \"bool\"])\n",
    "if (\n",
    "    len(num.isna().mean()[num.isna().mean() > 0][num.isna().mean()[num.isna().mean() > 0] < 0.05])\n",
    "    == 0\n",
    "):\n",
    "    print(\"There are no columns that have less than 5 % null values\")\n",
    "else:\n",
    "    print(\"Okay\")"
   ]
  },
  {
   "cell_type": "code",
   "execution_count": 31,
   "id": "93f6cc73",
   "metadata": {},
   "outputs": [],
   "source": [
    "col = num.isna().mean()[num.isna().mean() > 0].index.tolist()"
   ]
  },
  {
   "cell_type": "code",
   "execution_count": 32,
   "id": "14353e95",
   "metadata": {},
   "outputs": [],
   "source": [
    "skew = {}\n",
    "for _ in col:\n",
    "    skew[_] = df[_].skew()"
   ]
  },
  {
   "cell_type": "code",
   "execution_count": 33,
   "id": "dc9ef864",
   "metadata": {},
   "outputs": [
    {
     "data": {
      "text/plain": [
       "{'Age': np.float64(0.38910778230082704)}"
      ]
     },
     "execution_count": 33,
     "metadata": {},
     "output_type": "execute_result"
    }
   ],
   "source": [
    "skew"
   ]
  },
  {
   "cell_type": "code",
   "execution_count": 35,
   "id": "2605fdd0",
   "metadata": {},
   "outputs": [],
   "source": [
    "idx = num.columns"
   ]
  },
  {
   "cell_type": "code",
   "execution_count": 36,
   "id": "c68c6846",
   "metadata": {},
   "outputs": [
    {
     "name": "stdout",
     "output_type": "stream",
     "text": [
      "Column 'Index(['PassengerId', 'Survived', 'Pclass', 'Age', 'SibSp', 'Parch', 'Fare'], dtype='object')' is NOT normally distributed (p=0.0000)\n"
     ]
    }
   ],
   "source": [
    "from scipy.stats import shapiro\n",
    "\n",
    "\n",
    "stat, p = shapiro(df[idx].dropna())\n",
    "if p > 0.05:\n",
    "    print(f\"Column '{idx}' follows a normal distribution (p={p:.4f})\")\n",
    "else:\n",
    "    print(f\"Column '{idx}' is NOT normally distributed (p={p:.4f})\")"
   ]
  },
  {
   "cell_type": "code",
   "execution_count": 1,
   "id": "287a6001",
   "metadata": {},
   "outputs": [],
   "source": [
    "# for column in num:\n",
    "#     # Drop missing values\n",
    "#     data = num[column].dropna()\n",
    "#     if len(data) >= 3:  # Shapiro-Wilk test requires at least 3 data points\n",
    "#         stat, p_value = shapiro(data)\n",
    "#         print(f\"Column '{column}': W-statistic={stat:.4f}, p-value={p_value:.4f}\")\n",
    "#         if p_value > 0.05:\n",
    "#             print(f\"  {column} appears to be normally distributed.\\n\")\n",
    "#         else:\n",
    "#             print(f\"  {column} does not appear to be normally distributed.\\n\")\n",
    "#     else:\n",
    "#         print(f\"Column '{column}' does not have enough data points for the Shapiro-Wilk test.\\n\")"
   ]
  },
  {
   "cell_type": "code",
   "execution_count": 16,
   "id": "28707030",
   "metadata": {},
   "outputs": [],
   "source": [
    "null_col = df.columns[df.isnull().mean() > 0]"
   ]
  },
  {
   "cell_type": "code",
   "execution_count": 58,
   "id": "f5616811",
   "metadata": {},
   "outputs": [],
   "source": [
    "num = df[null_col].select_dtypes(exclude=[\"object\", \"category\", \"bool\"]).columns\n",
    "cat = df[null_col].select_dtypes(include=[\"object\", \"category\", \"bool\"])"
   ]
  },
  {
   "cell_type": "code",
   "execution_count": 57,
   "id": "dbe8f27e",
   "metadata": {},
   "outputs": [
    {
     "data": {
      "text/plain": [
       "['Embarked']"
      ]
     },
     "execution_count": 57,
     "metadata": {},
     "output_type": "execute_result"
    }
   ],
   "source": [
    "df[cat].isna().mean()[df[cat].isna().mean() < 0.05].index.values.tolist()"
   ]
  },
  {
   "cell_type": "code",
   "execution_count": 59,
   "id": "59f28170",
   "metadata": {},
   "outputs": [
    {
     "data": {
      "text/plain": [
       "Embarked    0.002245\n",
       "dtype: float64"
      ]
     },
     "execution_count": 59,
     "metadata": {},
     "output_type": "execute_result"
    }
   ],
   "source": [
    "(cat.isna().mean()[cat.isna().mean() < 0.05])"
   ]
  },
  {
   "cell_type": "code",
   "execution_count": 29,
   "id": "55f7641d",
   "metadata": {},
   "outputs": [
    {
     "data": {
      "text/plain": [
       "array([], dtype=float64)"
      ]
     },
     "execution_count": 29,
     "metadata": {},
     "output_type": "execute_result"
    }
   ],
   "source": [
    "cat.isna().mean()[cat.isna().mean() > 0][cat.isna().mean()[cat.isna().mean() > 0] < 0.05]"
   ]
  },
  {
   "cell_type": "code",
   "execution_count": null,
   "id": "2cad8f8d",
   "metadata": {},
   "outputs": [
    {
     "data": {
      "text/plain": [
       "1"
      ]
     },
     "execution_count": 61,
     "metadata": {},
     "output_type": "execute_result"
    }
   ],
   "source": [
    "len(cat.isna().mean()[cat.isna().mean() > 0][cat.isna().mean()[cat.isna().mean() > 0] < 0.05]"
   ]
  }
 ],
 "metadata": {
  "kernelspec": {
   "display_name": "MachineLearning",
   "language": "python",
   "name": "python3"
  },
  "language_info": {
   "codemirror_mode": {
    "name": "ipython",
    "version": 3
   },
   "file_extension": ".py",
   "mimetype": "text/x-python",
   "name": "python",
   "nbconvert_exporter": "python",
   "pygments_lexer": "ipython3",
   "version": "3.12.9"
  }
 },
 "nbformat": 4,
 "nbformat_minor": 5
}
